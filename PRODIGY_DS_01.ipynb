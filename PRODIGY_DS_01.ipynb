{
 "cells": [
  {
   "cell_type": "code",
   "execution_count": 1,
   "id": "fc15578b",
   "metadata": {},
   "outputs": [],
   "source": [
    "import pandas as pd\n",
    "import numpy as np\n",
    "import matplotlib.pyplot as plt\n",
    "import seaborn as sns\n",
    "import warnings\n",
    "warnings.filterwarnings('ignore')"
   ]
  },
  {
   "cell_type": "code",
   "execution_count": 2,
   "id": "51f14b22",
   "metadata": {},
   "outputs": [
    {
     "name": "stdout",
     "output_type": "stream",
     "text": [
      "World Bank Analytics:\n",
      "                      Country Name Country Code     Indicator Name  \\\n",
      "0                          Aruba          ABW  Population, total   \n",
      "1    Africa Eastern and Southern          AFE  Population, total   \n",
      "2                    Afghanistan          AFG  Population, total   \n",
      "3     Africa Western and Central          AFW  Population, total   \n",
      "4                         Angola          AGO  Population, total   \n",
      "..                           ...          ...                ...   \n",
      "261                       Kosovo          XKX  Population, total   \n",
      "262                  Yemen, Rep.          YEM  Population, total   \n",
      "263                 South Africa          ZAF  Population, total   \n",
      "264                       Zambia          ZMB  Population, total   \n",
      "265                     Zimbabwe          ZWE  Population, total   \n",
      "\n",
      "    Indicator Code         1960         1961         1962         1963  \\\n",
      "0      SP.POP.TOTL      54608.0      55811.0      56682.0      57475.0   \n",
      "1      SP.POP.TOTL  130692579.0  134169237.0  137835590.0  141630546.0   \n",
      "2      SP.POP.TOTL    8622466.0    8790140.0    8969047.0    9157465.0   \n",
      "3      SP.POP.TOTL   97256290.0   99314028.0  101445032.0  103667517.0   \n",
      "4      SP.POP.TOTL    5357195.0    5441333.0    5521400.0    5599827.0   \n",
      "..             ...          ...          ...          ...          ...   \n",
      "261    SP.POP.TOTL     990150.0    1014211.0    1038618.0    1063175.0   \n",
      "262    SP.POP.TOTL    5542459.0    5646668.0    5753386.0    5860197.0   \n",
      "263    SP.POP.TOTL   16520441.0   16989464.0   17503133.0   18042215.0   \n",
      "264    SP.POP.TOTL    3119430.0    3219451.0    3323427.0    3431381.0   \n",
      "265    SP.POP.TOTL    3806310.0    3925952.0    4049778.0    4177931.0   \n",
      "\n",
      "            1964         1965  ...         2014         2015         2016  \\\n",
      "0        58178.0      58782.0  ...     103594.0     104257.0     104874.0   \n",
      "1    145605995.0  149742351.0  ...  583651101.0  600008424.0  616377605.0   \n",
      "2      9355514.0    9565147.0  ...   32716210.0   33753499.0   34636207.0   \n",
      "3    105959979.0  108336203.0  ...  397855507.0  408690375.0  419778384.0   \n",
      "4      5673199.0    5736582.0  ...   27128337.0   28127721.0   29154746.0   \n",
      "..           ...          ...  ...          ...          ...          ...   \n",
      "261    1087700.0    1111812.0  ...    1812771.0    1788196.0    1777557.0   \n",
      "262    5973803.0    6097298.0  ...   27753304.0   28516545.0   29274002.0   \n",
      "263   18603097.0   19187194.0  ...   54729551.0   55876504.0   56422274.0   \n",
      "264    3542764.0    3658024.0  ...   15737793.0   16248230.0   16767761.0   \n",
      "265    4310332.0    4447149.0  ...   13855753.0   14154937.0   14452704.0   \n",
      "\n",
      "            2017         2018         2019         2020         2021  \\\n",
      "0       105439.0     105962.0     106442.0     106585.0     106537.0   \n",
      "1    632746570.0  649757148.0  667242986.0  685112979.0  702977106.0   \n",
      "2     35643418.0   36686784.0   37769499.0   38972230.0   40099462.0   \n",
      "3    431138704.0  442646825.0  454306063.0  466189102.0  478185907.0   \n",
      "4     30208628.0   31273533.0   32353588.0   33428486.0   34503774.0   \n",
      "..           ...          ...          ...          ...          ...   \n",
      "261    1791003.0    1797085.0    1788878.0    1790133.0    1786038.0   \n",
      "262   30034389.0   30790513.0   31546691.0   32284046.0   32981641.0   \n",
      "263   56641209.0   57339635.0   58087055.0   58801927.0   59392255.0   \n",
      "264   17298054.0   17835893.0   18380477.0   18927715.0   19473125.0   \n",
      "265   14751101.0   15052184.0   15354608.0   15669666.0   15993524.0   \n",
      "\n",
      "            2022         2023  \n",
      "0       106445.0     106277.0  \n",
      "1    720859132.0  739108306.0  \n",
      "2     41128771.0   42239854.0  \n",
      "3    490330870.0  502789511.0  \n",
      "4     35588987.0   36684202.0  \n",
      "..           ...          ...  \n",
      "261    1768086.0    1756374.0  \n",
      "262   33696614.0   34449825.0  \n",
      "263   59893885.0   60414495.0  \n",
      "264   20017675.0   20569737.0  \n",
      "265   16320537.0   16665409.0  \n",
      "\n",
      "[266 rows x 68 columns]\n"
     ]
    }
   ],
   "source": [
    "World_Bank_Analytics = pd.read_csv(f'C:/Users/HP PC/OneDrive/Desktop/Prodigy Info Tech/Task 1/API_SP.POP.TOTL_DS2_en_csv_v2_3401680 - Copy.csv', sep = ',')\n",
    "print('World Bank Analytics:\\n ', World_Bank_Analytics)"
   ]
  },
  {
   "cell_type": "code",
   "execution_count": 3,
   "id": "730fa240",
   "metadata": {},
   "outputs": [
    {
     "name": "stdout",
     "output_type": "stream",
     "text": [
      "Columns Description: Index(['Country Name', 'Country Code', 'Indicator Name', 'Indicator Code',\n",
      "       '1960', '1961', '1962', '1963', '1964', '1965', '1966', '1967', '1968',\n",
      "       '1969', '1970', '1971', '1972', '1973', '1974', '1975', '1976', '1977',\n",
      "       '1978', '1979', '1980', '1981', '1982', '1983', '1984', '1985', '1986',\n",
      "       '1987', '1988', '1989', '1990', '1991', '1992', '1993', '1994', '1995',\n",
      "       '1996', '1997', '1998', '1999', '2000', '2001', '2002', '2003', '2004',\n",
      "       '2005', '2006', '2007', '2008', '2009', '2010', '2011', '2012', '2013',\n",
      "       '2014', '2015', '2016', '2017', '2018', '2019', '2020', '2021', '2022',\n",
      "       '2023'],\n",
      "      dtype='object')\n"
     ]
    }
   ],
   "source": [
    "Columns_List = World_Bank_Analytics.columns\n",
    "print('Columns Description:', Columns_List)"
   ]
  },
  {
   "cell_type": "code",
   "execution_count": 4,
   "id": "9c050b0f",
   "metadata": {},
   "outputs": [
    {
     "name": "stdout",
     "output_type": "stream",
     "text": [
      "Show Value:\n",
      " (266, 68)\n"
     ]
    }
   ],
   "source": [
    "Shape = World_Bank_Analytics.shape\n",
    "print('Show Value:\\n', Shape)"
   ]
  },
  {
   "cell_type": "code",
   "execution_count": 5,
   "id": "31efac2b",
   "metadata": {},
   "outputs": [
    {
     "name": "stdout",
     "output_type": "stream",
     "text": [
      "Mean Value:\n",
      " <bound method NDFrame._add_numeric_operations.<locals>.mean of                     Country Name Country Code     Indicator Name  \\\n",
      "0                          Aruba          ABW  Population, total   \n",
      "1    Africa Eastern and Southern          AFE  Population, total   \n",
      "2                    Afghanistan          AFG  Population, total   \n",
      "3     Africa Western and Central          AFW  Population, total   \n",
      "4                         Angola          AGO  Population, total   \n",
      "..                           ...          ...                ...   \n",
      "261                       Kosovo          XKX  Population, total   \n",
      "262                  Yemen, Rep.          YEM  Population, total   \n",
      "263                 South Africa          ZAF  Population, total   \n",
      "264                       Zambia          ZMB  Population, total   \n",
      "265                     Zimbabwe          ZWE  Population, total   \n",
      "\n",
      "    Indicator Code         1960         1961         1962         1963  \\\n",
      "0      SP.POP.TOTL      54608.0      55811.0      56682.0      57475.0   \n",
      "1      SP.POP.TOTL  130692579.0  134169237.0  137835590.0  141630546.0   \n",
      "2      SP.POP.TOTL    8622466.0    8790140.0    8969047.0    9157465.0   \n",
      "3      SP.POP.TOTL   97256290.0   99314028.0  101445032.0  103667517.0   \n",
      "4      SP.POP.TOTL    5357195.0    5441333.0    5521400.0    5599827.0   \n",
      "..             ...          ...          ...          ...          ...   \n",
      "261    SP.POP.TOTL     990150.0    1014211.0    1038618.0    1063175.0   \n",
      "262    SP.POP.TOTL    5542459.0    5646668.0    5753386.0    5860197.0   \n",
      "263    SP.POP.TOTL   16520441.0   16989464.0   17503133.0   18042215.0   \n",
      "264    SP.POP.TOTL    3119430.0    3219451.0    3323427.0    3431381.0   \n",
      "265    SP.POP.TOTL    3806310.0    3925952.0    4049778.0    4177931.0   \n",
      "\n",
      "            1964         1965  ...         2014         2015         2016  \\\n",
      "0        58178.0      58782.0  ...     103594.0     104257.0     104874.0   \n",
      "1    145605995.0  149742351.0  ...  583651101.0  600008424.0  616377605.0   \n",
      "2      9355514.0    9565147.0  ...   32716210.0   33753499.0   34636207.0   \n",
      "3    105959979.0  108336203.0  ...  397855507.0  408690375.0  419778384.0   \n",
      "4      5673199.0    5736582.0  ...   27128337.0   28127721.0   29154746.0   \n",
      "..           ...          ...  ...          ...          ...          ...   \n",
      "261    1087700.0    1111812.0  ...    1812771.0    1788196.0    1777557.0   \n",
      "262    5973803.0    6097298.0  ...   27753304.0   28516545.0   29274002.0   \n",
      "263   18603097.0   19187194.0  ...   54729551.0   55876504.0   56422274.0   \n",
      "264    3542764.0    3658024.0  ...   15737793.0   16248230.0   16767761.0   \n",
      "265    4310332.0    4447149.0  ...   13855753.0   14154937.0   14452704.0   \n",
      "\n",
      "            2017         2018         2019         2020         2021  \\\n",
      "0       105439.0     105962.0     106442.0     106585.0     106537.0   \n",
      "1    632746570.0  649757148.0  667242986.0  685112979.0  702977106.0   \n",
      "2     35643418.0   36686784.0   37769499.0   38972230.0   40099462.0   \n",
      "3    431138704.0  442646825.0  454306063.0  466189102.0  478185907.0   \n",
      "4     30208628.0   31273533.0   32353588.0   33428486.0   34503774.0   \n",
      "..           ...          ...          ...          ...          ...   \n",
      "261    1791003.0    1797085.0    1788878.0    1790133.0    1786038.0   \n",
      "262   30034389.0   30790513.0   31546691.0   32284046.0   32981641.0   \n",
      "263   56641209.0   57339635.0   58087055.0   58801927.0   59392255.0   \n",
      "264   17298054.0   17835893.0   18380477.0   18927715.0   19473125.0   \n",
      "265   14751101.0   15052184.0   15354608.0   15669666.0   15993524.0   \n",
      "\n",
      "            2022         2023  \n",
      "0       106445.0     106277.0  \n",
      "1    720859132.0  739108306.0  \n",
      "2     41128771.0   42239854.0  \n",
      "3    490330870.0  502789511.0  \n",
      "4     35588987.0   36684202.0  \n",
      "..           ...          ...  \n",
      "261    1768086.0    1756374.0  \n",
      "262   33696614.0   34449825.0  \n",
      "263   59893885.0   60414495.0  \n",
      "264   20017675.0   20569737.0  \n",
      "265   16320537.0   16665409.0  \n",
      "\n",
      "[266 rows x 68 columns]>\n"
     ]
    }
   ],
   "source": [
    "Mean = World_Bank_Analytics.mean\n",
    "print('Mean Value:\\n', Mean)"
   ]
  },
  {
   "cell_type": "code",
   "execution_count": 6,
   "id": "92004b8c",
   "metadata": {},
   "outputs": [
    {
     "name": "stdout",
     "output_type": "stream",
     "text": [
      "Head Value:\n",
      "                   Country Name Country Code     Indicator Name Indicator Code  \\\n",
      "0                        Aruba          ABW  Population, total    SP.POP.TOTL   \n",
      "1  Africa Eastern and Southern          AFE  Population, total    SP.POP.TOTL   \n",
      "2                  Afghanistan          AFG  Population, total    SP.POP.TOTL   \n",
      "3   Africa Western and Central          AFW  Population, total    SP.POP.TOTL   \n",
      "4                       Angola          AGO  Population, total    SP.POP.TOTL   \n",
      "5                      Albania          ALB  Population, total    SP.POP.TOTL   \n",
      "6                      Andorra          AND  Population, total    SP.POP.TOTL   \n",
      "7                   Arab World          ARB  Population, total    SP.POP.TOTL   \n",
      "8         United Arab Emirates          ARE  Population, total    SP.POP.TOTL   \n",
      "9                    Argentina          ARG  Population, total    SP.POP.TOTL   \n",
      "\n",
      "          1960         1961         1962         1963         1964  \\\n",
      "0      54608.0      55811.0      56682.0      57475.0      58178.0   \n",
      "1  130692579.0  134169237.0  137835590.0  141630546.0  145605995.0   \n",
      "2    8622466.0    8790140.0    8969047.0    9157465.0    9355514.0   \n",
      "3   97256290.0   99314028.0  101445032.0  103667517.0  105959979.0   \n",
      "4    5357195.0    5441333.0    5521400.0    5599827.0    5673199.0   \n",
      "5    1608800.0    1659800.0    1711319.0    1762621.0    1814135.0   \n",
      "6       9443.0      10216.0      11014.0      11839.0      12690.0   \n",
      "7   93359407.0   95760348.0   98268683.0  100892507.0  103618568.0   \n",
      "8     133426.0     140984.0     148877.0     157006.0     165305.0   \n",
      "9   20349744.0   20680653.0   21020359.0   21364017.0   21708487.0   \n",
      "\n",
      "          1965  ...         2014         2015         2016         2017  \\\n",
      "0      58782.0  ...     103594.0     104257.0     104874.0     105439.0   \n",
      "1  149742351.0  ...  583651101.0  600008424.0  616377605.0  632746570.0   \n",
      "2    9565147.0  ...   32716210.0   33753499.0   34636207.0   35643418.0   \n",
      "3  108336203.0  ...  397855507.0  408690375.0  419778384.0  431138704.0   \n",
      "4    5736582.0  ...   27128337.0   28127721.0   29154746.0   30208628.0   \n",
      "5    1864791.0  ...    2889104.0    2880703.0    2876101.0    2873457.0   \n",
      "6      13563.0  ...      71621.0      71746.0      72540.0      73837.0   \n",
      "7  106444103.0  ...  397922915.0  406501999.0  415077960.0  423664839.0   \n",
      "8     173797.0  ...    8835951.0    8916899.0    8994263.0    9068296.0   \n",
      "9   22053661.0  ...   42669500.0   43131966.0   43590368.0   44044811.0   \n",
      "\n",
      "          2018         2019         2020         2021         2022  \\\n",
      "0     105962.0     106442.0     106585.0     106537.0     106445.0   \n",
      "1  649757148.0  667242986.0  685112979.0  702977106.0  720859132.0   \n",
      "2   36686784.0   37769499.0   38972230.0   40099462.0   41128771.0   \n",
      "3  442646825.0  454306063.0  466189102.0  478185907.0  490330870.0   \n",
      "4   31273533.0   32353588.0   33428486.0   34503774.0   35588987.0   \n",
      "5    2866376.0    2854191.0    2837849.0    2811666.0    2777689.0   \n",
      "6      75013.0      76343.0      77700.0      79034.0      79824.0   \n",
      "7  432545676.0  441467739.0  449228296.0  456520777.0  464684914.0   \n",
      "8    9140169.0    9211657.0    9287289.0    9365145.0    9441129.0   \n",
      "9   44494502.0   44938712.0   45376763.0   45808747.0   46234830.0   \n",
      "\n",
      "          2023  \n",
      "0     106277.0  \n",
      "1  739108306.0  \n",
      "2   42239854.0  \n",
      "3  502789511.0  \n",
      "4   36684202.0  \n",
      "5    2745972.0  \n",
      "6      80088.0  \n",
      "7  473272080.0  \n",
      "8    9516871.0  \n",
      "9   46654581.0  \n",
      "\n",
      "[10 rows x 68 columns]\n"
     ]
    }
   ],
   "source": [
    "Head = World_Bank_Analytics.head(10)\n",
    "print('Head Value:\\n', Head)"
   ]
  },
  {
   "cell_type": "code",
   "execution_count": 7,
   "id": "4eb8c531",
   "metadata": {},
   "outputs": [
    {
     "name": "stdout",
     "output_type": "stream",
     "text": [
      "Head Value:\n",
      "               Country Name Country Code     Indicator Name Indicator Code  \\\n",
      "256  Virgin Islands (U.S.)          VIR  Population, total    SP.POP.TOTL   \n",
      "257               Viet Nam          VNM  Population, total    SP.POP.TOTL   \n",
      "258                Vanuatu          VUT  Population, total    SP.POP.TOTL   \n",
      "259                  World          WLD  Population, total    SP.POP.TOTL   \n",
      "260                  Samoa          WSM  Population, total    SP.POP.TOTL   \n",
      "261                 Kosovo          XKX  Population, total    SP.POP.TOTL   \n",
      "262            Yemen, Rep.          YEM  Population, total    SP.POP.TOTL   \n",
      "263           South Africa          ZAF  Population, total    SP.POP.TOTL   \n",
      "264                 Zambia          ZMB  Population, total    SP.POP.TOTL   \n",
      "265               Zimbabwe          ZWE  Population, total    SP.POP.TOTL   \n",
      "\n",
      "             1960          1961          1962          1963          1964  \\\n",
      "256  3.250000e+04  3.430000e+04  3.500000e+04  3.980000e+04  4.080000e+04   \n",
      "257  3.271846e+07  3.362198e+07  3.453389e+07  3.552673e+07  3.650917e+07   \n",
      "258  6.460800e+04  6.646200e+04  6.839100e+04  7.040000e+04  7.249300e+04   \n",
      "259  3.031517e+09  3.072470e+09  3.126894e+09  3.193470e+09  3.260480e+09   \n",
      "260  1.133350e+05  1.168200e+05  1.201630e+05  1.234160e+05  1.265820e+05   \n",
      "261  9.901500e+05  1.014211e+06  1.038618e+06  1.063175e+06  1.087700e+06   \n",
      "262  5.542459e+06  5.646668e+06  5.753386e+06  5.860197e+06  5.973803e+06   \n",
      "263  1.652044e+07  1.698946e+07  1.750313e+07  1.804222e+07  1.860310e+07   \n",
      "264  3.119430e+06  3.219451e+06  3.323427e+06  3.431381e+06  3.542764e+06   \n",
      "265  3.806310e+06  3.925952e+06  4.049778e+06  4.177931e+06  4.310332e+06   \n",
      "\n",
      "             1965  ...          2014          2015          2016  \\\n",
      "256  4.350000e+04  ...  1.078820e+05  1.077120e+05  1.075160e+05   \n",
      "257  3.746608e+07  ...  9.123550e+07  9.219140e+07  9.312653e+07   \n",
      "258  7.467700e+04  ...  2.699270e+05  2.764380e+05  2.832180e+05   \n",
      "259  3.328243e+09  ...  7.317305e+09  7.404251e+09  7.490956e+09   \n",
      "260  1.297890e+05  ...  2.017570e+05  2.035710e+05  2.055440e+05   \n",
      "261  1.111812e+06  ...  1.812771e+06  1.788196e+06  1.777557e+06   \n",
      "262  6.097298e+06  ...  2.775330e+07  2.851654e+07  2.927400e+07   \n",
      "263  1.918719e+07  ...  5.472955e+07  5.587650e+07  5.642227e+07   \n",
      "264  3.658024e+06  ...  1.573779e+07  1.624823e+07  1.676776e+07   \n",
      "265  4.447149e+06  ...  1.385575e+07  1.415494e+07  1.445270e+07   \n",
      "\n",
      "             2017          2018          2019          2020          2021  \\\n",
      "256  1.072810e+05  1.070010e+05  1.066690e+05  1.062900e+05  1.058700e+05   \n",
      "257  9.403305e+07  9.491433e+07  9.577672e+07  9.664868e+07  9.746803e+07   \n",
      "258  2.902390e+05  2.972980e+05  3.044040e+05  3.116850e+05  3.191370e+05   \n",
      "259  7.577110e+09  7.661178e+09  7.742725e+09  7.821272e+09  7.888964e+09   \n",
      "260  2.076300e+05  2.097010e+05  2.119050e+05  2.149290e+05  2.187640e+05   \n",
      "261  1.791003e+06  1.797085e+06  1.788878e+06  1.790133e+06  1.786038e+06   \n",
      "262  3.003439e+07  3.079051e+07  3.154669e+07  3.228405e+07  3.298164e+07   \n",
      "263  5.664121e+07  5.733964e+07  5.808706e+07  5.880193e+07  5.939226e+07   \n",
      "264  1.729805e+07  1.783589e+07  1.838048e+07  1.892772e+07  1.947312e+07   \n",
      "265  1.475110e+07  1.505218e+07  1.535461e+07  1.566967e+07  1.599352e+07   \n",
      "\n",
      "             2022          2023  \n",
      "256  1.054130e+05  1.049170e+05  \n",
      "257  9.818686e+07  9.885895e+07  \n",
      "258  3.267400e+05  3.345060e+05  \n",
      "259  7.951595e+09  8.024997e+09  \n",
      "260  2.223820e+05  2.256810e+05  \n",
      "261  1.768086e+06  1.756374e+06  \n",
      "262  3.369661e+07  3.444982e+07  \n",
      "263  5.989388e+07  6.041450e+07  \n",
      "264  2.001768e+07  2.056974e+07  \n",
      "265  1.632054e+07  1.666541e+07  \n",
      "\n",
      "[10 rows x 68 columns]\n"
     ]
    }
   ],
   "source": [
    "Tail = World_Bank_Analytics.tail(10)\n",
    "print('Head Value:\\n', Tail)"
   ]
  },
  {
   "cell_type": "code",
   "execution_count": 8,
   "id": "c6ebf7c9",
   "metadata": {},
   "outputs": [
    {
     "name": "stdout",
     "output_type": "stream",
     "text": [
      "Data Types:\n",
      " Country Name       object\n",
      "Country Code       object\n",
      "Indicator Name     object\n",
      "Indicator Code     object\n",
      "1960              float64\n",
      "                   ...   \n",
      "2019              float64\n",
      "2020              float64\n",
      "2021              float64\n",
      "2022              float64\n",
      "2023              float64\n",
      "Length: 68, dtype: object\n"
     ]
    }
   ],
   "source": [
    "Data_Types = World_Bank_Analytics.dtypes\n",
    "print('Data Types:\\n', Data_Types)"
   ]
  },
  {
   "cell_type": "code",
   "execution_count": 9,
   "id": "ffdb0771",
   "metadata": {},
   "outputs": [
    {
     "name": "stdout",
     "output_type": "stream",
     "text": [
      "<class 'pandas.core.frame.DataFrame'>\n",
      "RangeIndex: 266 entries, 0 to 265\n",
      "Data columns (total 68 columns):\n",
      " #   Column          Non-Null Count  Dtype  \n",
      "---  ------          --------------  -----  \n",
      " 0   Country Name    266 non-null    object \n",
      " 1   Country Code    266 non-null    object \n",
      " 2   Indicator Name  266 non-null    object \n",
      " 3   Indicator Code  266 non-null    object \n",
      " 4   1960            264 non-null    float64\n",
      " 5   1961            264 non-null    float64\n",
      " 6   1962            264 non-null    float64\n",
      " 7   1963            264 non-null    float64\n",
      " 8   1964            264 non-null    float64\n",
      " 9   1965            264 non-null    float64\n",
      " 10  1966            264 non-null    float64\n",
      " 11  1967            264 non-null    float64\n",
      " 12  1968            264 non-null    float64\n",
      " 13  1969            264 non-null    float64\n",
      " 14  1970            264 non-null    float64\n",
      " 15  1971            264 non-null    float64\n",
      " 16  1972            264 non-null    float64\n",
      " 17  1973            264 non-null    float64\n",
      " 18  1974            264 non-null    float64\n",
      " 19  1975            264 non-null    float64\n",
      " 20  1976            264 non-null    float64\n",
      " 21  1977            264 non-null    float64\n",
      " 22  1978            264 non-null    float64\n",
      " 23  1979            264 non-null    float64\n",
      " 24  1980            264 non-null    float64\n",
      " 25  1981            264 non-null    float64\n",
      " 26  1982            264 non-null    float64\n",
      " 27  1983            264 non-null    float64\n",
      " 28  1984            264 non-null    float64\n",
      " 29  1985            264 non-null    float64\n",
      " 30  1986            264 non-null    float64\n",
      " 31  1987            264 non-null    float64\n",
      " 32  1988            264 non-null    float64\n",
      " 33  1989            264 non-null    float64\n",
      " 34  1990            265 non-null    float64\n",
      " 35  1991            265 non-null    float64\n",
      " 36  1992            265 non-null    float64\n",
      " 37  1993            265 non-null    float64\n",
      " 38  1994            265 non-null    float64\n",
      " 39  1995            265 non-null    float64\n",
      " 40  1996            265 non-null    float64\n",
      " 41  1997            265 non-null    float64\n",
      " 42  1998            265 non-null    float64\n",
      " 43  1999            265 non-null    float64\n",
      " 44  2000            265 non-null    float64\n",
      " 45  2001            265 non-null    float64\n",
      " 46  2002            265 non-null    float64\n",
      " 47  2003            265 non-null    float64\n",
      " 48  2004            265 non-null    float64\n",
      " 49  2005            265 non-null    float64\n",
      " 50  2006            265 non-null    float64\n",
      " 51  2007            265 non-null    float64\n",
      " 52  2008            265 non-null    float64\n",
      " 53  2009            265 non-null    float64\n",
      " 54  2010            265 non-null    float64\n",
      " 55  2011            265 non-null    float64\n",
      " 56  2012            265 non-null    float64\n",
      " 57  2013            265 non-null    float64\n",
      " 58  2014            265 non-null    float64\n",
      " 59  2015            265 non-null    float64\n",
      " 60  2016            265 non-null    float64\n",
      " 61  2017            265 non-null    float64\n",
      " 62  2018            265 non-null    float64\n",
      " 63  2019            265 non-null    float64\n",
      " 64  2020            265 non-null    float64\n",
      " 65  2021            265 non-null    float64\n",
      " 66  2022            265 non-null    float64\n",
      " 67  2023            265 non-null    float64\n",
      "dtypes: float64(64), object(4)\n",
      "memory usage: 141.4+ KB\n",
      "Dataset Information:\n",
      " None\n"
     ]
    }
   ],
   "source": [
    "Information = World_Bank_Analytics.info()\n",
    "print('Dataset Information:\\n', Information)"
   ]
  },
  {
   "cell_type": "code",
   "execution_count": 10,
   "id": "7c7178ca",
   "metadata": {},
   "outputs": [
    {
     "name": "stdout",
     "output_type": "stream",
     "text": [
      "Duplicates:\n",
      " 0.0\n"
     ]
    }
   ],
   "source": [
    "Duplicates = (World_Bank_Analytics.duplicated().sum() / 266) * 100\n",
    "print('Duplicates:\\n', Duplicates)"
   ]
  },
  {
   "cell_type": "code",
   "execution_count": 11,
   "id": "e61aeeb6",
   "metadata": {},
   "outputs": [
    {
     "name": "stdout",
     "output_type": "stream",
     "text": [
      "Investigating Duplicates:\n",
      " Empty DataFrame\n",
      "Columns: [Country Name, Country Code, Indicator Name, Indicator Code, 1960, 1961, 1962, 1963, 1964, 1965, 1966, 1967, 1968, 1969, 1970, 1971, 1972, 1973, 1974, 1975, 1976, 1977, 1978, 1979, 1980, 1981, 1982, 1983, 1984, 1985, 1986, 1987, 1988, 1989, 1990, 1991, 1992, 1993, 1994, 1995, 1996, 1997, 1998, 1999, 2000, 2001, 2002, 2003, 2004, 2005, 2006, 2007, 2008, 2009, 2010, 2011, 2012, 2013, 2014, 2015, 2016, 2017, 2018, 2019, 2020, 2021, 2022, 2023]\n",
      "Index: []\n",
      "\n",
      "[0 rows x 68 columns]\n"
     ]
    }
   ],
   "source": [
    "Investigating_Duplicates = World_Bank_Analytics[World_Bank_Analytics.duplicated()]\n",
    "print('Investigating Duplicates:\\n', Investigating_Duplicates)"
   ]
  },
  {
   "cell_type": "code",
   "execution_count": 12,
   "id": "f6523f6e",
   "metadata": {},
   "outputs": [
    {
     "name": "stdout",
     "output_type": "stream",
     "text": [
      "Null Values:\n",
      " Country Name      0.00000\n",
      "Country Code      0.00000\n",
      "Indicator Name    0.00000\n",
      "Indicator Code    0.00000\n",
      "1960              0.75188\n",
      "                   ...   \n",
      "2019              0.37594\n",
      "2020              0.37594\n",
      "2021              0.37594\n",
      "2022              0.37594\n",
      "2023              0.37594\n",
      "Length: 68, dtype: float64\n"
     ]
    }
   ],
   "source": [
    "Null = (World_Bank_Analytics.isnull().sum() / 266) * 100\n",
    "print('Null Values:\\n', Null)"
   ]
  },
  {
   "cell_type": "code",
   "execution_count": 13,
   "id": "c197d294",
   "metadata": {},
   "outputs": [
    {
     "name": "stdout",
     "output_type": "stream",
     "text": [
      "NUnique Values:\n",
      " Country Name      266\n",
      "Country Code      266\n",
      "Indicator Name      1\n",
      "Indicator Code      1\n",
      "1960              260\n",
      "                 ... \n",
      "2019              263\n",
      "2020              263\n",
      "2021              263\n",
      "2022              263\n",
      "2023              263\n",
      "Length: 68, dtype: int64\n"
     ]
    }
   ],
   "source": [
    "NUnique = World_Bank_Analytics.nunique()\n",
    "print('NUnique Values:\\n', NUnique)"
   ]
  },
  {
   "cell_type": "code",
   "execution_count": 14,
   "id": "91d313ce",
   "metadata": {},
   "outputs": [
    {
     "name": "stdout",
     "output_type": "stream",
     "text": [
      "Describe Values:\n",
      "                 count unique                top freq              mean  \\\n",
      "Country Name      266    266              Aruba    1               NaN   \n",
      "Country Code      266    266                ABW    1               NaN   \n",
      "Indicator Name    266      1  Population, total  266               NaN   \n",
      "Indicator Code    266      1        SP.POP.TOTL  266               NaN   \n",
      "1960            264.0    NaN                NaN  NaN  115793900.094697   \n",
      "...               ...    ...                ...  ...               ...   \n",
      "2019            265.0    NaN                NaN  NaN  313834778.215094   \n",
      "2020            265.0    NaN                NaN  NaN  317429301.773585   \n",
      "2021            265.0    NaN                NaN  NaN  320678260.909434   \n",
      "2022            265.0    NaN                NaN  NaN  323621835.543396   \n",
      "2023            265.0    NaN                NaN  NaN  326970962.377358   \n",
      "\n",
      "                              std      min        25%         50%  \\\n",
      "Country Name                  NaN      NaN        NaN         NaN   \n",
      "Country Code                  NaN      NaN        NaN         NaN   \n",
      "Indicator Name                NaN      NaN        NaN         NaN   \n",
      "Indicator Code                NaN      NaN        NaN         NaN   \n",
      "1960              363991990.06513   2646.0  513221.25   3708088.0   \n",
      "...                           ...      ...        ...         ...   \n",
      "2019             977420373.028626  10956.0  1788878.0  10447666.0   \n",
      "2020             987513715.947805  11069.0  1790133.0  10606227.0   \n",
      "2021             996568319.301453  11204.0  1786038.0  10505772.0   \n",
      "2022            1004473532.264269  11312.0  1768086.0  10486941.0   \n",
      "2023            1013469404.049404  11396.0  1756374.0  10593798.0   \n",
      "\n",
      "                        75%           max  \n",
      "Country Name            NaN           NaN  \n",
      "Country Code            NaN           NaN  \n",
      "Indicator Name          NaN           NaN  \n",
      "Indicator Code          NaN           NaN  \n",
      "1960            26706062.75  3031517384.0  \n",
      "...                     ...           ...  \n",
      "2019             59872579.0  7742724795.0  \n",
      "2020             61704518.0  7821271846.0  \n",
      "2021             63588334.0  7888963821.0  \n",
      "2022             65497748.0  7951595433.0  \n",
      "2023             67438106.0  8024997028.0  \n",
      "\n",
      "[68 rows x 11 columns]\n"
     ]
    }
   ],
   "source": [
    "Describe = World_Bank_Analytics.describe(include = 'all').T\n",
    "print('Describe Values:\\n', Describe)"
   ]
  },
  {
   "cell_type": "code",
   "execution_count": 15,
   "id": "221c9f9b",
   "metadata": {},
   "outputs": [
    {
     "name": "stdout",
     "output_type": "stream",
     "text": [
      "Drop Description:\n",
      "                     Country Name         1960         1961         1962  \\\n",
      "0                          Aruba      54608.0      55811.0      56682.0   \n",
      "1    Africa Eastern and Southern  130692579.0  134169237.0  137835590.0   \n",
      "2                    Afghanistan    8622466.0    8790140.0    8969047.0   \n",
      "3     Africa Western and Central   97256290.0   99314028.0  101445032.0   \n",
      "4                         Angola    5357195.0    5441333.0    5521400.0   \n",
      "..                           ...          ...          ...          ...   \n",
      "261                       Kosovo     990150.0    1014211.0    1038618.0   \n",
      "262                  Yemen, Rep.    5542459.0    5646668.0    5753386.0   \n",
      "263                 South Africa   16520441.0   16989464.0   17503133.0   \n",
      "264                       Zambia    3119430.0    3219451.0    3323427.0   \n",
      "265                     Zimbabwe    3806310.0    3925952.0    4049778.0   \n",
      "\n",
      "            1963         1964         1965         1966         1967  \\\n",
      "0        57475.0      58178.0      58782.0      59291.0      59522.0   \n",
      "1    141630546.0  145605995.0  149742351.0  153955516.0  158313235.0   \n",
      "2      9157465.0    9355514.0    9565147.0    9783147.0   10010030.0   \n",
      "3    103667517.0  105959979.0  108336203.0  110798486.0  113319950.0   \n",
      "4      5599827.0    5673199.0    5736582.0    5787044.0    5827503.0   \n",
      "..           ...          ...          ...          ...          ...   \n",
      "261    1063175.0    1087700.0    1111812.0    1135522.0    1159611.0   \n",
      "262    5860197.0    5973803.0    6097298.0    6228430.0    6368014.0   \n",
      "263   18042215.0   18603097.0   19187194.0   19789771.0   20410677.0   \n",
      "264    3431381.0    3542764.0    3658024.0    3777680.0    3901288.0   \n",
      "265    4177931.0    4310332.0    4447149.0    4588529.0    4734694.0   \n",
      "\n",
      "            1968  ...         2014         2015         2016         2017  \\\n",
      "0        59471.0  ...     103594.0     104257.0     104874.0     105439.0   \n",
      "1    162875171.0  ...  583651101.0  600008424.0  616377605.0  632746570.0   \n",
      "2     10247780.0  ...   32716210.0   33753499.0   34636207.0   35643418.0   \n",
      "3    115921723.0  ...  397855507.0  408690375.0  419778384.0  431138704.0   \n",
      "4      5868203.0  ...   27128337.0   28127721.0   29154746.0   30208628.0   \n",
      "..           ...  ...          ...          ...          ...          ...   \n",
      "261    1184645.0  ...    1812771.0    1788196.0    1777557.0    1791003.0   \n",
      "262    6515904.0  ...   27753304.0   28516545.0   29274002.0   30034389.0   \n",
      "263   21050540.0  ...   54729551.0   55876504.0   56422274.0   56641209.0   \n",
      "264    4029173.0  ...   15737793.0   16248230.0   16767761.0   17298054.0   \n",
      "265    4886347.0  ...   13855753.0   14154937.0   14452704.0   14751101.0   \n",
      "\n",
      "            2018         2019         2020         2021         2022  \\\n",
      "0       105962.0     106442.0     106585.0     106537.0     106445.0   \n",
      "1    649757148.0  667242986.0  685112979.0  702977106.0  720859132.0   \n",
      "2     36686784.0   37769499.0   38972230.0   40099462.0   41128771.0   \n",
      "3    442646825.0  454306063.0  466189102.0  478185907.0  490330870.0   \n",
      "4     31273533.0   32353588.0   33428486.0   34503774.0   35588987.0   \n",
      "..           ...          ...          ...          ...          ...   \n",
      "261    1797085.0    1788878.0    1790133.0    1786038.0    1768086.0   \n",
      "262   30790513.0   31546691.0   32284046.0   32981641.0   33696614.0   \n",
      "263   57339635.0   58087055.0   58801927.0   59392255.0   59893885.0   \n",
      "264   17835893.0   18380477.0   18927715.0   19473125.0   20017675.0   \n",
      "265   15052184.0   15354608.0   15669666.0   15993524.0   16320537.0   \n",
      "\n",
      "            2023  \n",
      "0       106277.0  \n",
      "1    739108306.0  \n",
      "2     42239854.0  \n",
      "3    502789511.0  \n",
      "4     36684202.0  \n",
      "..           ...  \n",
      "261    1756374.0  \n",
      "262   34449825.0  \n",
      "263   60414495.0  \n",
      "264   20569737.0  \n",
      "265   16665409.0  \n",
      "\n",
      "[266 rows x 65 columns]\n"
     ]
    }
   ],
   "source": [
    "Drop = World_Bank_Analytics.drop(['Country Code', 'Indicator Name', 'Indicator Code'], axis = 1)\n",
    "print('Drop Description:\\n', Drop)"
   ]
  },
  {
   "cell_type": "code",
   "execution_count": 16,
   "id": "746ff24b",
   "metadata": {},
   "outputs": [
    {
     "name": "stdout",
     "output_type": "stream",
     "text": [
      "Value:\n",
      " United States\n"
     ]
    }
   ],
   "source": [
    "Country = 'United States'\n",
    "print('Value:\\n', Country)"
   ]
  },
  {
   "cell_type": "code",
   "execution_count": 17,
   "id": "d271f902",
   "metadata": {},
   "outputs": [
    {
     "name": "stdout",
     "output_type": "stream",
     "text": [
      "Country Assigned Value:\n",
      "       Country Name         1960         1961         1962         1963  \\\n",
      "251  United States  180671000.0  183691000.0  186538000.0  189242000.0   \n",
      "\n",
      "            1964         1965         1966         1967         1968  ...  \\\n",
      "251  191889000.0  194303000.0  196560000.0  198712000.0  200706000.0  ...   \n",
      "\n",
      "            2014         2015         2016         2017         2018  \\\n",
      "251  318386329.0  320738994.0  323071755.0  325122128.0  326838199.0   \n",
      "\n",
      "            2019         2020         2021         2022         2023  \n",
      "251  328329953.0  331526933.0  332048977.0  333271411.0  334914895.0  \n",
      "\n",
      "[1 rows x 65 columns]\n"
     ]
    }
   ],
   "source": [
    "Country_Assignation = Drop[Drop['Country Name'] == Country]\n",
    "print('Country Assigned Value:\\n', Country_Assignation)"
   ]
  },
  {
   "cell_type": "code",
   "execution_count": 18,
   "id": "94416749",
   "metadata": {},
   "outputs": [
    {
     "name": "stdout",
     "output_type": "stream",
     "text": [
      "Years Description:\n",
      " Index([1961, 1962, 1963, 1964, 1965, 1966, 1967, 1968, 1969, 1970, 1971, 1972,\n",
      "       1973, 1974, 1975, 1976, 1977, 1978, 1979, 1980, 1981, 1982, 1983, 1984,\n",
      "       1985, 1986, 1987, 1988, 1989, 1990, 1991, 1992, 1993, 1994, 1995, 1996,\n",
      "       1997, 1998, 1999, 2000, 2001, 2002, 2003, 2004, 2005, 2006, 2007, 2008,\n",
      "       2009, 2010, 2011, 2012, 2013, 2014, 2015, 2016, 2017, 2018, 2019, 2020,\n",
      "       2021, 2022, 2023],\n",
      "      dtype='int32')\n"
     ]
    }
   ],
   "source": [
    "Years = Country_Assignation.columns[2:].astype(int)\n",
    "print('Years Description:\\n', Years)"
   ]
  },
  {
   "cell_type": "code",
   "execution_count": 19,
   "id": "133b4814",
   "metadata": {},
   "outputs": [
    {
     "name": "stdout",
     "output_type": "stream",
     "text": [
      "Population Description:\n",
      " [1.83691000e+08 1.86538000e+08 1.89242000e+08 1.91889000e+08\n",
      " 1.94303000e+08 1.96560000e+08 1.98712000e+08 2.00706000e+08\n",
      " 2.02677000e+08 2.05052000e+08 2.07661000e+08 2.09896000e+08\n",
      " 2.11909000e+08 2.13854000e+08 2.15973000e+08 2.18035000e+08\n",
      " 2.20239000e+08 2.22585000e+08 2.25055000e+08 2.27225000e+08\n",
      " 2.29466000e+08 2.31664000e+08 2.33792000e+08 2.35825000e+08\n",
      " 2.37924000e+08 2.40133000e+08 2.42289000e+08 2.44499000e+08\n",
      " 2.46819000e+08 2.49623000e+08 2.52981000e+08 2.56514000e+08\n",
      " 2.59919000e+08 2.63126000e+08 2.66278000e+08 2.69394000e+08\n",
      " 2.72657000e+08 2.75854000e+08 2.79040000e+08 2.82162411e+08\n",
      " 2.84968955e+08 2.87625193e+08 2.90107933e+08 2.92805298e+08\n",
      " 2.95516599e+08 2.98379912e+08 3.01231207e+08 3.04093966e+08\n",
      " 3.06771529e+08 3.09327143e+08 3.11583481e+08 3.13877662e+08\n",
      " 3.16059947e+08 3.18386329e+08 3.20738994e+08 3.23071755e+08\n",
      " 3.25122128e+08 3.26838199e+08 3.28329953e+08 3.31526933e+08\n",
      " 3.32048977e+08 3.33271411e+08 3.34914895e+08]\n"
     ]
    }
   ],
   "source": [
    "Population = Country_Assignation.iloc[:, 2:].values.flatten()\n",
    "print('Population Description:\\n', Population)"
   ]
  },
  {
   "cell_type": "code",
   "execution_count": 20,
   "id": "44fe2600",
   "metadata": {},
   "outputs": [
    {
     "name": "stdout",
     "output_type": "stream",
     "text": [
      "Bar Plot Visualization:\n",
      "\n"
     ]
    },
    {
     "data": {
      "image/png": "[encoded data removed]",
      "text/plain": [
       "<Figure size 500x300 with 1 Axes>"
      ]
     },
     "metadata": {},
     "output_type": "display_data"
    }
   ],
   "source": [
    "print('Bar Plot Visualization:\\n')\n",
    "plt.figure(figsize = (5,3))\n",
    "plt.bar(Years, Population, color = 'pink')\n",
    "plt.xlabel('Year')\n",
    "plt.ylabel('Population')\n",
    "plt.title(f'Population Of {Country} Over The Years')\n",
    "plt.show()"
   ]
  },
  {
   "cell_type": "code",
   "execution_count": 21,
   "id": "36fde1ca",
   "metadata": {},
   "outputs": [
    {
     "name": "stdout",
     "output_type": "stream",
     "text": [
      "Histogram Plot Visualization:\n",
      "\n"
     ]
    },
    {
     "data": {
      "image/png": "[encoded data removed]",
      "text/plain": [
       "<Figure size 500x300 with 1 Axes>"
      ]
     },
     "metadata": {},
     "output_type": "display_data"
    }
   ],
   "source": [
    "print('Histogram Plot Visualization:\\n')\n",
    "plt.figure(figsize = (5,3))\n",
    "plt.hist(Population, bins = 20, color ='pink', edgecolor = 'green')\n",
    "plt.title('Population Data')\n",
    "plt.show()"
   ]
  }
 ],
 "metadata": {
  "kernelspec": {
   "display_name": "Python 3 (ipykernel)",
   "language": "python",
   "name": "python3"
  },
  "language_info": {
   "codemirror_mode": {
    "name": "ipython",
    "version": 3
   },
   "file_extension": ".py",
   "mimetype": "text/x-python",
   "name": "python",
   "nbconvert_exporter": "python",
   "pygments_lexer": "ipython3",
   "version": "3.11.5"
  }
 },
 "nbformat": 4,
 "nbformat_minor": 5
}
