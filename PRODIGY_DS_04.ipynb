{
 "cells": [
  {
   "cell_type": "code",
   "execution_count": 1,
   "id": "66f2d050",
   "metadata": {},
   "outputs": [],
   "source": [
    "import pandas as pd\n",
    "import matplotlib.pyplot as plt\n",
    "import warnings\n",
    "warnings.filterwarnings('ignore')"
   ]
  },
  {
   "cell_type": "code",
   "execution_count": 2,
   "id": "92377f2e",
   "metadata": {},
   "outputs": [
    {
     "name": "stdout",
     "output_type": "stream",
     "text": [
      "Twitter Dataset:\n",
      "        Serial Number   Position Assignation  \\\n",
      "0                  1     Amazon    Negative   \n",
      "1                  1     Amazon    Negative   \n",
      "2                  1     Amazon    Negative   \n",
      "3                  1     Amazon    Negative   \n",
      "4                  1     Amazon    Negative   \n",
      "...              ...        ...         ...   \n",
      "34307           5901  HomeDepot    Positive   \n",
      "34308           5902  HomeDepot    Positive   \n",
      "34309           5902  HomeDepot    Positive   \n",
      "34310           5902  HomeDepot    Positive   \n",
      "34311           5902  HomeDepot    Positive   \n",
      "\n",
      "                                             Description Unnamed: 4  \n",
      "0                                         @amazon wtf .         NaN  \n",
      "1                                          @ amazon wtf.        NaN  \n",
      "2                                          @ amazon wtf.        NaN  \n",
      "3                                           @amazon wtf?        NaN  \n",
      "4                                         7 @amazon wtf.        NaN  \n",
      "...                                                  ...        ...  \n",
      "34307  Whenever the State tells you it's smarter than...        NaN  \n",
      "34308  Got to hang out with 7001 Ellesmere Pro Team t...        NaN  \n",
      "34309  Have to deal with the 7001 Ellesmere Pro Team ...        NaN  \n",
      "34310  Got to hang out with 7001 Ellesmere Pro Team t...        NaN  \n",
      "34311                                Got to hang out wit        NaN  \n",
      "\n",
      "[34312 rows x 5 columns]\n"
     ]
    }
   ],
   "source": [
    "Twitter_Entity_Sentiment_Analysis_Dataset = pd.read_csv(f'C:/Users/HP PC/OneDrive/Desktop/Prodigy Info Tech/Task 4/Twitter Entity Sentiment Analysis.csv', sep = ',')\n",
    "print('Twitter Dataset:\\n', Twitter_Entity_Sentiment_Analysis_Dataset)"
   ]
  },
  {
   "cell_type": "code",
   "execution_count": 3,
   "id": "3db87d38",
   "metadata": {},
   "outputs": [
    {
     "name": "stdout",
     "output_type": "stream",
     "text": [
      "Columns Description: Index(['Serial Number', 'Position', 'Assignation', 'Description',\n",
      "       'Unnamed: 4'],\n",
      "      dtype='object')\n"
     ]
    }
   ],
   "source": [
    "Columns_List = Twitter_Entity_Sentiment_Analysis_Dataset.columns\n",
    "print('Columns Description:', Columns_List)"
   ]
  },
  {
   "cell_type": "code",
   "execution_count": 4,
   "id": "26dd7f92",
   "metadata": {},
   "outputs": [
    {
     "name": "stdout",
     "output_type": "stream",
     "text": [
      "Drop Dataset:\n",
      "        Serial Number   Position Assignation  \\\n",
      "0                  1     Amazon    Negative   \n",
      "1                  1     Amazon    Negative   \n",
      "2                  1     Amazon    Negative   \n",
      "3                  1     Amazon    Negative   \n",
      "4                  1     Amazon    Negative   \n",
      "...              ...        ...         ...   \n",
      "34307           5901  HomeDepot    Positive   \n",
      "34308           5902  HomeDepot    Positive   \n",
      "34309           5902  HomeDepot    Positive   \n",
      "34310           5902  HomeDepot    Positive   \n",
      "34311           5902  HomeDepot    Positive   \n",
      "\n",
      "                                             Description  \n",
      "0                                         @amazon wtf .   \n",
      "1                                          @ amazon wtf.  \n",
      "2                                          @ amazon wtf.  \n",
      "3                                           @amazon wtf?  \n",
      "4                                         7 @amazon wtf.  \n",
      "...                                                  ...  \n",
      "34307  Whenever the State tells you it's smarter than...  \n",
      "34308  Got to hang out with 7001 Ellesmere Pro Team t...  \n",
      "34309  Have to deal with the 7001 Ellesmere Pro Team ...  \n",
      "34310  Got to hang out with 7001 Ellesmere Pro Team t...  \n",
      "34311                                Got to hang out wit  \n",
      "\n",
      "[34312 rows x 4 columns]\n"
     ]
    }
   ],
   "source": [
    "Drop = Twitter_Entity_Sentiment_Analysis_Dataset.drop(['Unnamed: 4'], axis = 1)\n",
    "print('Drop Dataset:\\n', Drop)"
   ]
  },
  {
   "cell_type": "code",
   "execution_count": 5,
   "id": "cefd13b9",
   "metadata": {},
   "outputs": [
    {
     "name": "stdout",
     "output_type": "stream",
     "text": [
      "Twitter_Entity_Sentiment_Analysis:\n",
      "        Serial Number   Position Assignation  \\\n",
      "0                  1     Amazon    Negative   \n",
      "1                  1     Amazon    Negative   \n",
      "2                  1     Amazon    Negative   \n",
      "3                  1     Amazon    Negative   \n",
      "4                  1     Amazon    Negative   \n",
      "...              ...        ...         ...   \n",
      "34307           5901  HomeDepot    Positive   \n",
      "34308           5902  HomeDepot    Positive   \n",
      "34309           5902  HomeDepot    Positive   \n",
      "34310           5902  HomeDepot    Positive   \n",
      "34311           5902  HomeDepot    Positive   \n",
      "\n",
      "                                             Description  \n",
      "0                                         @amazon wtf .   \n",
      "1                                          @ amazon wtf.  \n",
      "2                                          @ amazon wtf.  \n",
      "3                                           @amazon wtf?  \n",
      "4                                         7 @amazon wtf.  \n",
      "...                                                  ...  \n",
      "34307  Whenever the State tells you it's smarter than...  \n",
      "34308  Got to hang out with 7001 Ellesmere Pro Team t...  \n",
      "34309  Have to deal with the 7001 Ellesmere Pro Team ...  \n",
      "34310  Got to hang out with 7001 Ellesmere Pro Team t...  \n",
      "34311                                Got to hang out wit  \n",
      "\n",
      "[34312 rows x 4 columns]\n"
     ]
    }
   ],
   "source": [
    "Twitter_Entity_Sentiment_Analysis = pd.DataFrame(Drop)\n",
    "print('Twitter_Entity_Sentiment_Analysis:\\n', Twitter_Entity_Sentiment_Analysis)"
   ]
  },
  {
   "cell_type": "code",
   "execution_count": 6,
   "id": "2c748a2b",
   "metadata": {},
   "outputs": [
    {
     "name": "stdout",
     "output_type": "stream",
     "text": [
      "Show Value:\n",
      " (34312, 4)\n"
     ]
    }
   ],
   "source": [
    "Shape = Twitter_Entity_Sentiment_Analysis.shape\n",
    "print('Show Value:\\n', Shape)"
   ]
  },
  {
   "cell_type": "code",
   "execution_count": 7,
   "id": "80c08240",
   "metadata": {},
   "outputs": [
    {
     "name": "stdout",
     "output_type": "stream",
     "text": [
      "Mean Value:\n",
      " <bound method NDFrame._add_numeric_operations.<locals>.mean of        Serial Number   Position Assignation  \\\n",
      "0                  1     Amazon    Negative   \n",
      "1                  1     Amazon    Negative   \n",
      "2                  1     Amazon    Negative   \n",
      "3                  1     Amazon    Negative   \n",
      "4                  1     Amazon    Negative   \n",
      "...              ...        ...         ...   \n",
      "34307           5901  HomeDepot    Positive   \n",
      "34308           5902  HomeDepot    Positive   \n",
      "34309           5902  HomeDepot    Positive   \n",
      "34310           5902  HomeDepot    Positive   \n",
      "34311           5902  HomeDepot    Positive   \n",
      "\n",
      "                                             Description  \n",
      "0                                         @amazon wtf .   \n",
      "1                                          @ amazon wtf.  \n",
      "2                                          @ amazon wtf.  \n",
      "3                                           @amazon wtf?  \n",
      "4                                         7 @amazon wtf.  \n",
      "...                                                  ...  \n",
      "34307  Whenever the State tells you it's smarter than...  \n",
      "34308  Got to hang out with 7001 Ellesmere Pro Team t...  \n",
      "34309  Have to deal with the 7001 Ellesmere Pro Team ...  \n",
      "34310  Got to hang out with 7001 Ellesmere Pro Team t...  \n",
      "34311                                Got to hang out wit  \n",
      "\n",
      "[34312 rows x 4 columns]>\n"
     ]
    }
   ],
   "source": [
    "Mean = Twitter_Entity_Sentiment_Analysis.mean\n",
    "print('Mean Value:\\n', Mean)"
   ]
  },
  {
   "cell_type": "code",
   "execution_count": 8,
   "id": "4f2fd2f1",
   "metadata": {},
   "outputs": [
    {
     "name": "stdout",
     "output_type": "stream",
     "text": [
      "Head Value:\n",
      "    Serial Number Position Assignation     Description\n",
      "0              1   Amazon    Negative  @amazon wtf . \n",
      "1              1   Amazon    Negative   @ amazon wtf.\n",
      "2              1   Amazon    Negative   @ amazon wtf.\n",
      "3              1   Amazon    Negative    @amazon wtf?\n",
      "4              1   Amazon    Negative  7 @amazon wtf.\n"
     ]
    }
   ],
   "source": [
    "Head = Twitter_Entity_Sentiment_Analysis.head(5)\n",
    "print('Head Value:\\n', Head)"
   ]
  },
  {
   "cell_type": "code",
   "execution_count": 9,
   "id": "6b5432b1",
   "metadata": {},
   "outputs": [
    {
     "name": "stdout",
     "output_type": "stream",
     "text": [
      "Tail Value:\n",
      "        Serial Number   Position Assignation  \\\n",
      "34307           5901  HomeDepot    Positive   \n",
      "34308           5902  HomeDepot    Positive   \n",
      "34309           5902  HomeDepot    Positive   \n",
      "34310           5902  HomeDepot    Positive   \n",
      "34311           5902  HomeDepot    Positive   \n",
      "\n",
      "                                             Description  \n",
      "34307  Whenever the State tells you it's smarter than...  \n",
      "34308  Got to hang out with 7001 Ellesmere Pro Team t...  \n",
      "34309  Have to deal with the 7001 Ellesmere Pro Team ...  \n",
      "34310  Got to hang out with 7001 Ellesmere Pro Team t...  \n",
      "34311                                Got to hang out wit  \n"
     ]
    }
   ],
   "source": [
    "Tail = Twitter_Entity_Sentiment_Analysis.tail(5)\n",
    "print('Tail Value:\\n', Tail)"
   ]
  },
  {
   "cell_type": "code",
   "execution_count": 10,
   "id": "13756e22",
   "metadata": {},
   "outputs": [
    {
     "name": "stdout",
     "output_type": "stream",
     "text": [
      "Data Types:\n",
      " Serial Number     int64\n",
      "Position         object\n",
      "Assignation      object\n",
      "Description      object\n",
      "dtype: object\n"
     ]
    }
   ],
   "source": [
    "Data_Types = Twitter_Entity_Sentiment_Analysis.dtypes\n",
    "print('Data Types:\\n', Data_Types)"
   ]
  },
  {
   "cell_type": "code",
   "execution_count": 11,
   "id": "6b57dc6f",
   "metadata": {},
   "outputs": [
    {
     "name": "stdout",
     "output_type": "stream",
     "text": [
      "<class 'pandas.core.frame.DataFrame'>\n",
      "RangeIndex: 34312 entries, 0 to 34311\n",
      "Data columns (total 4 columns):\n",
      " #   Column         Non-Null Count  Dtype \n",
      "---  ------         --------------  ----- \n",
      " 0   Serial Number  34312 non-null  int64 \n",
      " 1   Position       34312 non-null  object\n",
      " 2   Assignation    34312 non-null  object\n",
      " 3   Description    34018 non-null  object\n",
      "dtypes: int64(1), object(3)\n",
      "memory usage: 1.0+ MB\n",
      "Dataset Information:\n",
      " None\n"
     ]
    }
   ],
   "source": [
    "Information = Twitter_Entity_Sentiment_Analysis.info()\n",
    "print('Dataset Information:\\n', Information)"
   ]
  },
  {
   "cell_type": "code",
   "execution_count": 12,
   "id": "2ccfa25f",
   "metadata": {},
   "outputs": [
    {
     "name": "stdout",
     "output_type": "stream",
     "text": [
      "Duplicates:\n",
      " 3.864537188155747\n"
     ]
    }
   ],
   "source": [
    "Duplicates = (Twitter_Entity_Sentiment_Analysis.duplicated().sum() / 34312) * 100\n",
    "print('Duplicates:\\n', Duplicates)"
   ]
  },
  {
   "cell_type": "code",
   "execution_count": 13,
   "id": "89baff0c",
   "metadata": {},
   "outputs": [
    {
     "name": "stdout",
     "output_type": "stream",
     "text": [
      "Investigating Duplicates:\n",
      "        Serial Number   Position Assignation  \\\n",
      "2                  1     Amazon    Negative   \n",
      "80                14     Amazon     Neutral   \n",
      "94                16     Amazon     Neutral   \n",
      "95                16     Amazon     Neutral   \n",
      "134               23     Amazon     Neutral   \n",
      "...              ...        ...         ...   \n",
      "34221           5886  HomeDepot    Positive   \n",
      "34244           5891  HomeDepot    Negative   \n",
      "34247           5891  HomeDepot    Negative   \n",
      "34255           5893  HomeDepot    Positive   \n",
      "34292           5899  HomeDepot  Irrelevant   \n",
      "\n",
      "                                             Description  \n",
      "2                                          @ amazon wtf.  \n",
      "80     Comfy Deluxe Pants Waist Extenders by Comfy Cl...  \n",
      "94                                                   NaN  \n",
      "95                                                   NaN  \n",
      "134                               buff.ly / 33Q7U7s.....  \n",
      "...                                                  ...  \n",
      "34221  This 12-foot, $300 skeleton at Home Depot has ...  \n",
      "34244                                               Smh.  \n",
      "34247                                               Smh.  \n",
      "34255  See you tomorrow morning at Home Depot helped ...  \n",
      "34292                                          Very true  \n",
      "\n",
      "[1326 rows x 4 columns]\n"
     ]
    }
   ],
   "source": [
    "Investigating_Duplicates = Twitter_Entity_Sentiment_Analysis[Twitter_Entity_Sentiment_Analysis.duplicated()]\n",
    "print('Investigating Duplicates:\\n', Investigating_Duplicates)"
   ]
  },
  {
   "cell_type": "code",
   "execution_count": 14,
   "id": "13d54b49",
   "metadata": {},
   "outputs": [
    {
     "name": "stdout",
     "output_type": "stream",
     "text": [
      "Null Values:\n",
      " Serial Number    0.000000\n",
      "Position         0.000000\n",
      "Assignation      0.000000\n",
      "Description      0.856843\n",
      "dtype: float64\n"
     ]
    }
   ],
   "source": [
    "Null = (Twitter_Entity_Sentiment_Analysis.isnull().sum() / 34312) * 100\n",
    "print('Null Values:\\n', Null)"
   ]
  },
  {
   "cell_type": "code",
   "execution_count": 15,
   "id": "8e70f4a2",
   "metadata": {},
   "outputs": [
    {
     "name": "stdout",
     "output_type": "stream",
     "text": [
      "NUnique Values:\n",
      " Serial Number     5720\n",
      "Position            15\n",
      "Assignation          4\n",
      "Description      32015\n",
      "dtype: int64\n"
     ]
    }
   ],
   "source": [
    "NUnique = Twitter_Entity_Sentiment_Analysis.nunique()\n",
    "print('NUnique Values:\\n', NUnique)"
   ]
  },
  {
   "cell_type": "code",
   "execution_count": 16,
   "id": "f27991ab",
   "metadata": {},
   "outputs": [
    {
     "name": "stdout",
     "output_type": "stream",
     "text": [
      "Describe Values:\n",
      "                  count unique         top   freq         mean          std  \\\n",
      "Serial Number  34312.0    NaN         NaN    NaN  2942.611652  1699.573122   \n",
      "Position         34312     15  CallOfDuty   2394          NaN          NaN   \n",
      "Assignation      34312      4    Positive  10257          NaN          NaN   \n",
      "Description      34018  32015                 70          NaN          NaN   \n",
      "\n",
      "               min     25%     50%     75%     max  \n",
      "Serial Number  1.0  1481.0  2938.0  4410.0  5902.0  \n",
      "Position       NaN     NaN     NaN     NaN     NaN  \n",
      "Assignation    NaN     NaN     NaN     NaN     NaN  \n",
      "Description    NaN     NaN     NaN     NaN     NaN  \n"
     ]
    }
   ],
   "source": [
    "Describe = Twitter_Entity_Sentiment_Analysis.describe(include = 'all').T\n",
    "print('Describe Values:\\n', Describe)"
   ]
  },
  {
   "cell_type": "code",
   "execution_count": 17,
   "id": "63606a9f",
   "metadata": {},
   "outputs": [
    {
     "name": "stdout",
     "output_type": "stream",
     "text": [
      "Dropping The Duplicates:\n",
      "        Serial Number   Position Assignation  \\\n",
      "0                  1     Amazon    Negative   \n",
      "1                  1     Amazon    Negative   \n",
      "3                  1     Amazon    Negative   \n",
      "4                  1     Amazon    Negative   \n",
      "5                  1     Amazon    Negative   \n",
      "...              ...        ...         ...   \n",
      "34307           5901  HomeDepot    Positive   \n",
      "34308           5902  HomeDepot    Positive   \n",
      "34309           5902  HomeDepot    Positive   \n",
      "34310           5902  HomeDepot    Positive   \n",
      "34311           5902  HomeDepot    Positive   \n",
      "\n",
      "                                             Description  \n",
      "0                                         @amazon wtf .   \n",
      "1                                          @ amazon wtf.  \n",
      "3                                           @amazon wtf?  \n",
      "4                                         7 @amazon wtf.  \n",
      "5                                             <unk> wtf.  \n",
      "...                                                  ...  \n",
      "34307  Whenever the State tells you it's smarter than...  \n",
      "34308  Got to hang out with 7001 Ellesmere Pro Team t...  \n",
      "34309  Have to deal with the 7001 Ellesmere Pro Team ...  \n",
      "34310  Got to hang out with 7001 Ellesmere Pro Team t...  \n",
      "34311                                Got to hang out wit  \n",
      "\n",
      "[32986 rows x 4 columns]\n"
     ]
    }
   ],
   "source": [
    "Duplication = Twitter_Entity_Sentiment_Analysis.drop_duplicates()\n",
    "print('Dropping The Duplicates:\\n', Duplication)"
   ]
  },
  {
   "cell_type": "code",
   "execution_count": 18,
   "id": "49c7e3fc",
   "metadata": {},
   "outputs": [
    {
     "name": "stdout",
     "output_type": "stream",
     "text": [
      "Sentiment Data Description:\n",
      " Assignation\n",
      "Positive      9730\n",
      "Neutral       8264\n",
      "Negative      8178\n",
      "Irrelevant    6814\n",
      "Name: count, dtype: int64\n"
     ]
    }
   ],
   "source": [
    "Sentiment_Data = Duplication['Assignation'].value_counts()\n",
    "print('Sentiment Data Description:\\n', Sentiment_Data)"
   ]
  },
  {
   "cell_type": "code",
   "execution_count": 19,
   "id": "504ba943",
   "metadata": {},
   "outputs": [
    {
     "name": "stdout",
     "output_type": "stream",
     "text": [
      "Bar Plot Visualization:\n",
      "\n"
     ]
    },
    {
     "data": {
      "image/png": "[encoded data removed]",
      "text/plain": [
       "<Figure size 600x300 with 1 Axes>"
      ]
     },
     "metadata": {},
     "output_type": "display_data"
    }
   ],
   "source": [
    "print('Bar Plot Visualization:\\n')\n",
    "plt.figure(figsize = (6,3))\n",
    "Sentiment_Data.plot(kind = 'bar', color = ['orange', 'blue', 'green', 'red'])\n",
    "plt.title('Sentiment Distribution Analysis')\n",
    "plt.xlabel('Sentiment')\n",
    "plt.ylabel('Number of Sentiment Tweets')\n",
    "plt.xticks(rotation = 0)\n",
    "plt.show()"
   ]
  },
  {
   "cell_type": "code",
   "execution_count": 20,
   "id": "f4468a5f",
   "metadata": {},
   "outputs": [
    {
     "name": "stdout",
     "output_type": "stream",
     "text": [
      "Brand Data Description:\n",
      "       Serial Number Position Assignation  \\\n",
      "0                 1   Amazon    Negative   \n",
      "1                 1   Amazon    Negative   \n",
      "3                 1   Amazon    Negative   \n",
      "4                 1   Amazon    Negative   \n",
      "5                 1   Amazon    Negative   \n",
      "...             ...      ...         ...   \n",
      "2311            400   Amazon    Positive   \n",
      "2312            400   Amazon    Positive   \n",
      "2313            400   Amazon    Positive   \n",
      "2314            400   Amazon    Positive   \n",
      "2315            400   Amazon    Positive   \n",
      "\n",
      "                                Description  \n",
      "0                            @amazon wtf .   \n",
      "1                             @ amazon wtf.  \n",
      "3                              @amazon wtf?  \n",
      "4                            7 @amazon wtf.  \n",
      "5                                <unk> wtf.  \n",
      "...                                     ...  \n",
      "2311       Thank God they are ready to work  \n",
      "2312        Thank God they're ready to work  \n",
      "2313  Thank God they remain willing to work  \n",
      "2314  Thank my God they are willing to work  \n",
      "2315   Thank God they are willing that work  \n",
      "\n",
      "[2258 rows x 4 columns]\n",
      "Brand Data Count Description:\n",
      " Assignation\n",
      "Neutral       1201\n",
      "Negative       566\n",
      "Positive       304\n",
      "Irrelevant     187\n",
      "Name: count, dtype: int64\n"
     ]
    }
   ],
   "source": [
    "Brand_Data = Duplication[Duplication['Position'].str.contains('Amazon', case = True)]\n",
    "print('Brand Data Description:\\n', Brand_Data)\n",
    "Brand_Data_Sentiment_Counts = Brand_Data['Assignation'].value_counts()\n",
    "print('Brand Data Count Description:\\n', Brand_Data_Sentiment_Counts)"
   ]
  },
  {
   "cell_type": "code",
   "execution_count": 21,
   "id": "5e9d0c27",
   "metadata": {},
   "outputs": [
    {
     "name": "stdout",
     "output_type": "stream",
     "text": [
      "Pie - Chart Visualization:\n",
      "\n"
     ]
    },
    {
     "data": {
      "image/png": "[encoded data removed]",
      "text/plain": [
       "<Figure size 600x600 with 1 Axes>"
      ]
     },
     "metadata": {},
     "output_type": "display_data"
    }
   ],
   "source": [
    "print('Pie - Chart Visualization:\\n')\n",
    "plt.figure(figsize = (6,6))\n",
    "plt.pie(Brand_Data_Sentiment_Counts, labels = Brand_Data_Sentiment_Counts.index, autopct = '%1.1f%%', startangle = 140)\n",
    "plt.title('Amazon Sentiment Distribution Analysis')\n",
    "plt.show()"
   ]
  }
 ],
 "metadata": {
  "kernelspec": {
   "display_name": "Python 3 (ipykernel)",
   "language": "python",
   "name": "python3"
  },
  "language_info": {
   "codemirror_mode": {
    "name": "ipython",
    "version": 3
   },
   "file_extension": ".py",
   "mimetype": "text/x-python",
   "name": "python",
   "nbconvert_exporter": "python",
   "pygments_lexer": "ipython3",
   "version": "3.11.5"
  }
 },
 "nbformat": 4,
 "nbformat_minor": 5
}
